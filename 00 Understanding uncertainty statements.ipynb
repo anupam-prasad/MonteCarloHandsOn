{
 "cells": [
  {
   "cell_type": "markdown",
   "metadata": {
    "nbpresent": {
     "id": "385e0dba-478c-498e-a6be-b54ce5cde552"
    }
   },
   "source": [
    "# Understanding uncertainty statements"
   ]
  },
  {
   "cell_type": "markdown",
   "metadata": {
    "nbpresent": {
     "id": "4f1d3d91-95d0-4976-bd00-00d62f6bbf6b"
    },
    "slideshow": {
     "slide_type": "slide"
    }
   },
   "source": [
    "Often uncertainty about a quantity is not expressed in tabular form, but in some abstract way familiar to the author of the uncertainty budget and statements. This can make a translation of the available information into a usable format challenging.\n",
    "\n",
    "Therefore, the GUM (JCGM 100:2008) lists several examples which we here state as a means of reference."
   ]
  },
  {
   "cell_type": "markdown",
   "metadata": {
    "nbpresent": {
     "id": "555bc701-7ad6-4295-8c7c-6190a801298d"
    },
    "slideshow": {
     "slide_type": "slide"
    }
   },
   "source": [
    "#### Usage of non-SI units\n",
    "\n",
    "A high-quality Zener voltage standard is calibrated by comparison with a Josephson effect voltage reference based on the conventional value of the Josephson constant recommended for international use by the CIPM. The relative combined standard uncertainty $uc(VS)/VS$ of the calibrated potential difference $VS$ of the Zener standard is $2 \\times 10^{-8}$ when $VS$ is reported in terms of the conventional value, but $uc(VS)/VS$ is $4 \\times 10^{-7}$ when $VS$ is reported in terms of the SI unit of potential difference, the volt (V), because of the additional uncertainty associated with the SI value of the Josephson constant.\n",
    "\n",
    "**$\\Longrightarrow$ Be careful about the units stated in the uncertainty budget.**\n",
    "\n"
   ]
  },
  {
   "cell_type": "markdown",
   "metadata": {
    "nbpresent": {
     "id": "42cba267-e750-4255-ae69-5d5a77ecc571"
    },
    "slideshow": {
     "slide_type": "slide"
    }
   },
   "source": [
    "\n",
    "\n",
    "#### Uncertainty stated as multiples of the std\n",
    "\n",
    "A calibration certificate states that the mass of a stainless steel mass standard mS of nominal value one kilogram is 1 000,000 325 g and that “the uncertainty of this value is 240 \\mu g at the three standard deviation level”. The standard uncertainty of the mass standard is then simply $$u(mS) = (240 \\mu g)/3 = 80 \\mu g$$\n",
    "\n",
    "**$\\Longrightarrow$ Look out for keywords, such as *level*.**"
   ]
  },
  {
   "cell_type": "markdown",
   "metadata": {
    "nbpresent": {
     "id": "9ff4c4cf-e9d7-4fbf-a3cc-18829725f243"
    },
    "slideshow": {
     "slide_type": "slide"
    }
   },
   "source": [
    "\n",
    "\n",
    "#### Uncertainty states as level of confidence\n",
    "\n",
    "A calibration certificate states that the resistance of a standard resistor RS of nominal value ten ohms is $10,000 742 \\Omega \\pm 129 \\mu\\Omega$ at $23^\\circ$C and that “the quoted uncertainty of 129 μΩ defines an interval having a level of confidence of 99 %”. \n",
    "\n",
    "Assuming a normal distribution as the underlying probability distribution, the standard uncertainty of the resistor may then be taken as $$u(RS) = (129 \\mu\\Omega)/2,58 = 50 \\mu\\Omega$$\n",
    "\n",
    "**$\\Longrightarrow$ Translate confidence/coverage interval statements using the quantile of the PDF.**"
   ]
  },
  {
   "cell_type": "markdown",
   "metadata": {
    "nbpresent": {
     "id": "44f1c62e-1ff3-4d95-b099-b9fe215a01fb"
    },
    "slideshow": {
     "slide_type": "slide"
    }
   },
   "source": [
    "\n",
    "\n",
    "#### Uncertainty statement with probability\n",
    "\n",
    "A machinist determining the dimensions of a part estimates that its length lies, with probability $0,5$, in the interval $10,07$ mm to $10,15$ mm, and reports that $l = (10,11 \\pm 0,04)$ mm, meaning that $\\pm 0,04$ mm defines an interval having a level of confidence of $50$ %. Then $a = 0,04$ mm, and if one assumes a normal distribution for the possible values of $l$, the standard uncertainty of the length is $$u(l) = 1,48 \\times 0,04 mm \\approx 0,06 mm$$\n",
    "\n",
    "**$\\Longrightarrow$ Translate probability into confidence/coverage.**"
   ]
  },
  {
   "cell_type": "markdown",
   "metadata": {
    "nbpresent": {
     "id": "c480ae38-3e0d-4ab4-a8dd-6b835193e543"
    },
    "slideshow": {
     "slide_type": "slide"
    }
   },
   "source": [
    "\n",
    "\n",
    "#### Uncertainty given as bounds\n",
    "\n",
    "A handboook gives the value of the coefficient of linear thermal expansion of pure copper at $20^\\circ$C, $\\alpha_{20}(Cu)$ as $16,52\\times 10^{-6}\\,^\\circ C^{-1}$ and simply states that \"the error in this value should not exceed $0,40 \\times 10^{-6}\\,^\\circ C^{-1}$\". Based on this limited information, it is not unreasonable to assume that the value of $\\alpha_{20}(Cu)$ lies with equal probability in the interval $[16,12, 16,92] \\times 10^{-6}\\,^\\circ C^{-1}$, and that it is very unlikely that $\\alpha_{20}(Cu)$ lies outside this interval. The **variance** of this symmetric rectangular distribution of possible values of $\\alpha_{20}(Cu)$ of half-width $\\alpha = 0,40 \\times 10^{-6}\\,^\\circ C^{-1}$ is then given as $$ u^2(\\alpha_{20}) = \\frac{1}{3} (0,40 \\times 10^{-6}\\,^\\circ C^{-1})^2 = 53,3 \\times 10^{-15}\\,^\\circ C^{-2}$$\n",
    "\n",
    "**$\\Longrightarrow$ Translate vague information into the most likely probability statement.**"
   ]
  }
 ],
 "metadata": {
  "anaconda-cloud": {},
  "kernelspec": {
   "display_name": "Python [conda root]",
   "language": "python",
   "name": "conda-root-py"
  },
  "language_info": {
   "codemirror_mode": {
    "name": "ipython",
    "version": 3
   },
   "file_extension": ".py",
   "mimetype": "text/x-python",
   "name": "python",
   "nbconvert_exporter": "python",
   "pygments_lexer": "ipython3",
   "version": "3.5.2"
  },
  "nbpresent": {
   "slides": {
    "06399a14-39cd-44b8-869c-72fc7d35895f": {
     "id": "06399a14-39cd-44b8-869c-72fc7d35895f",
     "prev": "5c1fa3a6-b2da-4e5b-8d8f-9cc297463b24",
     "regions": {
      "0675fba7-a30d-4950-8163-eb8b0f8014db": {
       "attrs": {
        "height": 0.2,
        "width": 0.4,
        "x": 0.5,
        "y": 0.7
       },
       "id": "0675fba7-a30d-4950-8163-eb8b0f8014db"
      },
      "2062be4f-d7ca-40ed-a6a9-638a90fe7a7d": {
       "attrs": {
        "height": 0.2,
        "width": 0.4,
        "x": 0.1,
        "y": 0.7
       },
       "id": "2062be4f-d7ca-40ed-a6a9-638a90fe7a7d"
      },
      "c3b4a6df-07c7-422d-9b0d-74df19b5d138": {
       "attrs": {
        "height": 0.6,
        "width": 0.8,
        "x": 0.1,
        "y": 0.1
       },
       "content": {
        "cell": "42cba267-e750-4255-ae69-5d5a77ecc571",
        "part": "whole"
       },
       "id": "c3b4a6df-07c7-422d-9b0d-74df19b5d138"
      }
     },
     "theme": "8767db68-647d-46ee-ac1f-8b31c7777a0d"
    },
    "54da1ceb-f4b2-4576-94bf-b52282ffd648": {
     "id": "54da1ceb-f4b2-4576-94bf-b52282ffd648",
     "layout": "grid",
     "prev": null,
     "regions": {
      "00dad321-b9dd-44e5-9a44-d69e4bc4e1c1": {
       "attrs": {
        "height": 0.3333333333333333,
        "pad": 0.01,
        "width": 0.6666666666666666,
        "x": 0.16666666666666666,
        "y": 0.4166666666666667
       },
       "content": {
        "cell": "4f1d3d91-95d0-4976-bd00-00d62f6bbf6b",
        "part": "whole"
       },
       "id": "00dad321-b9dd-44e5-9a44-d69e4bc4e1c1"
      },
      "210d9731-5215-43e6-ae2b-c6154cfe4269": {
       "attrs": {
        "height": 0.16666666666666666,
        "pad": 0.01,
        "treemap:weight": 1,
        "width": 0.75,
        "x": 0.08333333333333333,
        "y": 0.16666666666666666
       },
       "content": {
        "cell": "385e0dba-478c-498e-a6be-b54ce5cde552",
        "part": "whole"
       },
       "id": "210d9731-5215-43e6-ae2b-c6154cfe4269"
      }
     },
     "theme": "8767db68-647d-46ee-ac1f-8b31c7777a0d"
    },
    "5c1fa3a6-b2da-4e5b-8d8f-9cc297463b24": {
     "id": "5c1fa3a6-b2da-4e5b-8d8f-9cc297463b24",
     "prev": "54da1ceb-f4b2-4576-94bf-b52282ffd648",
     "regions": {
      "54f8cbda-4df6-458b-9148-e3583e9e1883": {
       "attrs": {
        "height": 0.2,
        "width": 0.4,
        "x": 0.5,
        "y": 0.7
       },
       "id": "54f8cbda-4df6-458b-9148-e3583e9e1883"
      },
      "76341269-782c-441a-a30e-5c98c9cc0722": {
       "attrs": {
        "height": 0.2,
        "width": 0.4,
        "x": 0.1,
        "y": 0.7
       },
       "id": "76341269-782c-441a-a30e-5c98c9cc0722"
      },
      "e67a8745-f1fc-4475-8588-7337f7eaf860": {
       "attrs": {
        "height": 0.6,
        "width": 0.8,
        "x": 0.1,
        "y": 0.1
       },
       "content": {
        "cell": "555bc701-7ad6-4295-8c7c-6190a801298d",
        "part": "whole"
       },
       "id": "e67a8745-f1fc-4475-8588-7337f7eaf860"
      }
     },
     "theme": "8767db68-647d-46ee-ac1f-8b31c7777a0d"
    },
    "678cf925-da53-48b2-ae20-96ba687dae7a": {
     "id": "678cf925-da53-48b2-ae20-96ba687dae7a",
     "prev": "06399a14-39cd-44b8-869c-72fc7d35895f",
     "regions": {
      "5d840290-0e4e-441a-94cf-c8ac2445f68e": {
       "attrs": {
        "height": 0.2,
        "width": 0.4,
        "x": 0.5,
        "y": 0.7
       },
       "id": "5d840290-0e4e-441a-94cf-c8ac2445f68e"
      },
      "6a0f3aea-c9a1-4f12-8caf-cb5ac9c3cce3": {
       "attrs": {
        "height": 0.2,
        "width": 0.4,
        "x": 0.1,
        "y": 0.7
       },
       "id": "6a0f3aea-c9a1-4f12-8caf-cb5ac9c3cce3"
      },
      "989273b0-e4ee-4bf1-b7c6-e5cb23d8002c": {
       "attrs": {
        "height": 0.6,
        "width": 0.8,
        "x": 0.1,
        "y": 0.1
       },
       "content": {
        "cell": "9ff4c4cf-e9d7-4fbf-a3cc-18829725f243",
        "part": "whole"
       },
       "id": "989273b0-e4ee-4bf1-b7c6-e5cb23d8002c"
      }
     },
     "theme": "8767db68-647d-46ee-ac1f-8b31c7777a0d"
    },
    "88be19fa-4d21-4866-a1f5-c10f239f5090": {
     "id": "88be19fa-4d21-4866-a1f5-c10f239f5090",
     "prev": "d6afe0c2-ffa6-4afc-9f15-49e3b85720b7",
     "regions": {
      "0f2be8cf-3a67-41a6-9155-3566e2ee32c7": {
       "attrs": {
        "height": 0.2,
        "width": 0.4,
        "x": 0.5,
        "y": 0.7
       },
       "id": "0f2be8cf-3a67-41a6-9155-3566e2ee32c7"
      },
      "611ea524-f266-46e6-8350-a7c6c08d7af1": {
       "attrs": {
        "height": 0.6,
        "width": 0.8,
        "x": 0.1,
        "y": 0.1
       },
       "content": {
        "cell": "c480ae38-3e0d-4ab4-a8dd-6b835193e543",
        "part": "whole"
       },
       "id": "611ea524-f266-46e6-8350-a7c6c08d7af1"
      },
      "7696e7fd-31f6-41b4-bc85-0045fa6950a7": {
       "attrs": {
        "height": 0.2,
        "width": 0.4,
        "x": 0.1,
        "y": 0.7
       },
       "id": "7696e7fd-31f6-41b4-bc85-0045fa6950a7"
      }
     },
     "theme": "8767db68-647d-46ee-ac1f-8b31c7777a0d"
    },
    "d6afe0c2-ffa6-4afc-9f15-49e3b85720b7": {
     "id": "d6afe0c2-ffa6-4afc-9f15-49e3b85720b7",
     "prev": "678cf925-da53-48b2-ae20-96ba687dae7a",
     "regions": {
      "961e72f4-4f10-49bc-810e-2eb23ff40f38": {
       "attrs": {
        "height": 0.6,
        "width": 0.8,
        "x": 0.1,
        "y": 0.1
       },
       "content": {
        "cell": "44f1c62e-1ff3-4d95-b099-b9fe215a01fb",
        "part": "whole"
       },
       "id": "961e72f4-4f10-49bc-810e-2eb23ff40f38"
      },
      "c92591fb-6ce3-4b45-beec-55588233215f": {
       "attrs": {
        "height": 0.2,
        "width": 0.4,
        "x": 0.1,
        "y": 0.7
       },
       "id": "c92591fb-6ce3-4b45-beec-55588233215f"
      },
      "f517f8ab-0326-48e4-973b-764c7e0e4dc5": {
       "attrs": {
        "height": 0.2,
        "width": 0.4,
        "x": 0.5,
        "y": 0.7
       },
       "id": "f517f8ab-0326-48e4-973b-764c7e0e4dc5"
      }
     },
     "theme": "8767db68-647d-46ee-ac1f-8b31c7777a0d"
    }
   },
   "themes": {
    "default": "9657b342-d728-41bb-aa06-fa83ce720c06",
    "theme": {
     "6ba18234-f784-4bb5-b6b9-24228aa7732d": {
      "backgrounds": {
       "backgroundColor": {
        "background-color": "backgroundColor",
        "id": "backgroundColor"
       }
      },
      "id": "6ba18234-f784-4bb5-b6b9-24228aa7732d",
      "palette": {
       "backgroundColor": {
        "id": "backgroundColor",
        "rgb": [
         34,
         34,
         34
        ]
       },
       "headingColor": {
        "id": "headingColor",
        "rgb": [
         256,
         256,
         256
        ]
       },
       "linkColor": {
        "id": "linkColor",
        "rgb": [
         66,
         175,
         250
        ]
       },
       "mainColor": {
        "id": "mainColor",
        "rgb": [
         256,
         256,
         256
        ]
       }
      },
      "rules": {
       "a": {
        "color": "linkColor"
       },
       "h1": {
        "color": "headingColor",
        "font-family": "Source Sans Pro",
        "font-size": 5.25
       },
       "h2": {
        "color": "headingColor",
        "font-family": "Source Sans Pro",
        "font-size": 4
       },
       "h3": {
        "color": "headingColor",
        "font-family": "Source Sans Pro",
        "font-size": 3.5
       },
       "h4": {
        "color": "headingColor",
        "font-family": "Source Sans Pro",
        "font-size": 3
       },
       "h5": {
        "color": "headingColor",
        "font-family": "Source Sans Pro"
       },
       "h6": {
        "color": "headingColor",
        "font-family": "Source Sans Pro"
       },
       "h7": {
        "color": "headingColor",
        "font-family": "Source Sans Pro"
       },
       "li": {
        "color": "mainColor",
        "font-family": "Source Sans Pro",
        "font-size": 6
       },
       "p": {
        "color": "mainColor",
        "font-family": "Source Sans Pro",
        "font-size": 6
       }
      },
      "text-base": {
       "color": "mainColor",
       "font-family": "Source Sans Pro",
       "font-size": 6
      }
     },
     "8767db68-647d-46ee-ac1f-8b31c7777a0d": {
      "backgrounds": {
       "backgroundColor": {
        "background-color": "backgroundColor",
        "id": "backgroundColor"
       }
      },
      "id": "8767db68-647d-46ee-ac1f-8b31c7777a0d",
      "palette": {
       "backgroundColor": {
        "id": "backgroundColor",
        "rgb": [
         253,
         246,
         227
        ]
       },
       "headingColor": {
        "id": "headingColor",
        "rgb": [
         88,
         110,
         117
        ]
       },
       "linkColor": {
        "id": "linkColor",
        "rgb": [
         38,
         139,
         210
        ]
       },
       "mainColor": {
        "id": "mainColor",
        "rgb": [
         101,
         123,
         131
        ]
       }
      },
      "rules": {
       "a": {
        "color": "linkColor"
       },
       "h1": {
        "color": "headingColor",
        "font-family": "Oswald",
        "font-size": 7
       },
       "h2": {
        "color": "headingColor",
        "font-family": "Oswald",
        "font-size": 5
       },
       "h3": {
        "color": "headingColor",
        "font-family": "Oswald",
        "font-size": 3.75
       },
       "h4": {
        "color": "headingColor",
        "font-family": "Oswald",
        "font-size": 3
       },
       "h5": {
        "color": "headingColor",
        "font-family": "Oswald"
       },
       "h6": {
        "color": "headingColor",
        "font-family": "Oswald"
       },
       "h7": {
        "color": "headingColor",
        "font-family": "Oswald"
       },
       "li": {
        "color": "mainColor",
        "font-family": "Lato",
        "font-size": 5
       },
       "p": {
        "color": "mainColor",
        "font-family": "Lato",
        "font-size": 5
       }
      },
      "text-base": {
       "color": "mainColor",
       "font-family": "Lato",
       "font-size": 5
      }
     },
     "9657b342-d728-41bb-aa06-fa83ce720c06": {
      "backgrounds": {
       "backgroundColor": {
        "background-color": "backgroundColor",
        "id": "backgroundColor"
       }
      },
      "id": "9657b342-d728-41bb-aa06-fa83ce720c06",
      "palette": {
       "backgroundColor": {
        "id": "backgroundColor",
        "rgb": [
         256,
         256,
         256
        ]
       },
       "headingColor": {
        "id": "headingColor",
        "rgb": [
         34,
         34,
         34
        ]
       },
       "linkColor": {
        "id": "linkColor",
        "rgb": [
         42,
         118,
         221
        ]
       },
       "mainColor": {
        "id": "mainColor",
        "rgb": [
         34,
         34,
         34
        ]
       }
      },
      "rules": {
       "a": {
        "color": "linkColor"
       },
       "h1": {
        "color": "headingColor",
        "font-family": "Source Sans Pro",
        "font-size": 5.25
       },
       "h2": {
        "color": "headingColor",
        "font-family": "Source Sans Pro",
        "font-size": 4
       },
       "h3": {
        "color": "headingColor",
        "font-family": "Source Sans Pro",
        "font-size": 3.5
       },
       "h4": {
        "color": "headingColor",
        "font-family": "Source Sans Pro",
        "font-size": 3
       },
       "h5": {
        "color": "headingColor",
        "font-family": "Source Sans Pro"
       },
       "h6": {
        "color": "headingColor",
        "font-family": "Source Sans Pro"
       },
       "h7": {
        "color": "headingColor",
        "font-family": "Source Sans Pro"
       },
       "li": {
        "color": "mainColor",
        "font-family": "Source Sans Pro",
        "font-size": 6
       },
       "p": {
        "color": "mainColor",
        "font-family": "Source Sans Pro",
        "font-size": 6
       }
      },
      "text-base": {
       "color": "mainColor",
       "font-family": "Source Sans Pro",
       "font-size": 6
      }
     }
    }
   }
  }
 },
 "nbformat": 4,
 "nbformat_minor": 1
}
